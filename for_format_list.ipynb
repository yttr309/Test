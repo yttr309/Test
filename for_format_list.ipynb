{
 "cells": [
  {
   "cell_type": "markdown",
   "metadata": {},
   "source": [
    "## for_format_list"
   ]
  },
  {
   "cell_type": "code",
   "execution_count": 8,
   "metadata": {},
   "outputs": [
    {
     "name": "stdout",
     "output_type": "stream",
     "text": [
      "ss aa ss\n"
     ]
    }
   ],
   "source": [
    "s='{} {} {}'\n",
    "a=s.format('ss','aa','ss')\n",
    "print(a)"
   ]
  },
  {
   "cell_type": "code",
   "execution_count": 9,
   "metadata": {},
   "outputs": [
    {
     "name": "stdout",
     "output_type": "stream",
     "text": [
      "ss가 aa가 ss가?\n"
     ]
    }
   ],
   "source": [
    "s='{}가 {}가 {}가?'\n",
    "a=s.format('ss','aa','ss')\n",
    "print(a)"
   ]
  },
  {
   "cell_type": "code",
   "execution_count": 11,
   "metadata": {},
   "outputs": [
    {
     "name": "stdout",
     "output_type": "stream",
     "text": [
      "ㅁㅁ는 222번 학교갔다\n"
     ]
    }
   ],
   "source": [
    "s='{}는 {}번 {}갔다'\n",
    "a=s.format('ㅁㅁ','222','학교')\n",
    "print(a)"
   ]
  },
  {
   "cell_type": "markdown",
   "metadata": {},
   "source": [
    "### [문제]햄버거 1개는 4달라"
   ]
  },
  {
   "cell_type": "code",
   "execution_count": 1782,
   "metadata": {},
   "outputs": [
    {
     "name": "stdout",
     "output_type": "stream",
     "text": [
      "햄버거 1개는 4달라\n"
     ]
    }
   ],
   "source": [
    "s='{} {}개는 {}달라'\n",
    "a=s.format('햄버거', 1,4)\n",
    "print(a)"
   ]
  },
  {
   "cell_type": "code",
   "execution_count": 1783,
   "metadata": {},
   "outputs": [
    {
     "name": "stdout",
     "output_type": "stream",
     "text": [
      "햄버거 2개는 8달라\n"
     ]
    }
   ],
   "source": [
    "food = '햄버거'\n",
    "num = 2\n",
    "price = num * 4\n",
    "s='{} {}개는 {}달라'\n",
    "a=s.format(food, num, price)\n",
    "print(a)"
   ]
  },
  {
   "cell_type": "code",
   "execution_count": 1804,
   "metadata": {},
   "outputs": [
    {
     "name": "stdout",
     "output_type": "stream",
     "text": [
      "메뉴입력 >> 45645645\n",
      "개수입력 >> 456456\n",
      "45645645 456456개는 1825824달라\n"
     ]
    }
   ],
   "source": [
    "food = input('메뉴입력 >> ')\n",
    "num = input('개수입력 >> ')\n",
    "price = int(num) * 4\n",
    "s='{} {}개는 {}달라'\n",
    "a=s.format(food, num, price)\n",
    "print(a)"
   ]
  },
  {
   "cell_type": "code",
   "execution_count": 1808,
   "metadata": {},
   "outputs": [
    {
     "name": "stdout",
     "output_type": "stream",
     "text": [
      "햄버거 개수와 가격 >> 4 4\n",
      "햄버거 4개는 16달라\n"
     ]
    }
   ],
   "source": [
    "menu = list( map( int, (input('햄버거 개수와 가격 >> ').split() ) ) )\n",
    "s='햄버거 {}개는 {}달라'\n",
    "a=s.format(menu[0], menu[0]*menu[1])\n",
    "print(a)"
   ]
  },
  {
   "cell_type": "code",
   "execution_count": 1866,
   "metadata": {},
   "outputs": [
    {
     "name": "stdout",
     "output_type": "stream",
     "text": [
      "인천여상 3학년 김고은\n"
     ]
    }
   ],
   "source": [
    "stu='%s %d학년 %s'\n",
    "a=stu%('인천여상',3,'김고은')\n",
    "print(a)"
   ]
  },
  {
   "cell_type": "code",
   "execution_count": 3488,
   "metadata": {},
   "outputs": [],
   "source": [
    "juso ='                                                                                           인천시 연수구 동춘동   '"
   ]
  },
  {
   "cell_type": "code",
   "execution_count": 2395,
   "metadata": {},
   "outputs": [
    {
     "data": {
      "text/plain": [
       "str"
      ]
     },
     "execution_count": 2395,
     "metadata": {},
     "output_type": "execute_result"
    }
   ],
   "source": [
    "type(juso)"
   ]
  },
  {
   "cell_type": "code",
   "execution_count": 3489,
   "metadata": {},
   "outputs": [
    {
     "data": {
      "text/plain": [
       "105"
      ]
     },
     "execution_count": 3489,
     "metadata": {},
     "output_type": "execute_result"
    }
   ],
   "source": [
    "len(juso)"
   ]
  },
  {
   "cell_type": "code",
   "execution_count": 3492,
   "metadata": {},
   "outputs": [
    {
     "name": "stdout",
     "output_type": "stream",
     "text": [
      "인천시 연수구 동춘동\n"
     ]
    }
   ],
   "source": [
    "add = juso.strip()\n",
    "print(add)"
   ]
  },
  {
   "cell_type": "code",
   "execution_count": 3495,
   "metadata": {},
   "outputs": [
    {
     "data": {
      "text/plain": [
       "11"
      ]
     },
     "execution_count": 3495,
     "metadata": {},
     "output_type": "execute_result"
    }
   ],
   "source": [
    "len(add)"
   ]
  },
  {
   "cell_type": "code",
   "execution_count": 3967,
   "metadata": {},
   "outputs": [
    {
     "data": {
      "text/plain": [
       "['인천시', '연수구', '동춘동']"
      ]
     },
     "execution_count": 3967,
     "metadata": {},
     "output_type": "execute_result"
    }
   ],
   "source": [
    "add.split()"
   ]
  },
  {
   "cell_type": "code",
   "execution_count": 4517,
   "metadata": {},
   "outputs": [
    {
     "data": {
      "text/plain": [
       "True"
      ]
     },
     "execution_count": 4517,
     "metadata": {},
     "output_type": "execute_result"
    }
   ],
   "source": [
    "add.startswith('인천')"
   ]
  },
  {
   "cell_type": "code",
   "execution_count": 4519,
   "metadata": {},
   "outputs": [
    {
     "data": {
      "text/plain": [
       "True"
      ]
     },
     "execution_count": 4519,
     "metadata": {},
     "output_type": "execute_result"
    }
   ],
   "source": [
    "add.endswith('동춘동')"
   ]
  },
  {
   "cell_type": "code",
   "execution_count": 4522,
   "metadata": {},
   "outputs": [
    {
     "name": "stdout",
     "output_type": "stream",
     "text": [
      "ㅇㅇ\n"
     ]
    }
   ],
   "source": [
    "num=10\n",
    "if num==10:\n",
    "    print('ㅇㅇ')\n",
    "else:\n",
    "    print('ㄴㄴ')"
   ]
  },
  {
   "cell_type": "code",
   "execution_count": 4526,
   "metadata": {},
   "outputs": [
    {
     "name": "stdout",
     "output_type": "stream",
     "text": [
      "짝수\n"
     ]
    }
   ],
   "source": [
    "num=10\n",
    "if num%2==0:\n",
    "    print('짝수')\n",
    "else:\n",
    "    print('홀수')"
   ]
  },
  {
   "cell_type": "markdown",
   "metadata": {},
   "source": [
    "### [문제] 입력을 받아서 짝수인지 홀 수 인지 알려줌\n",
    "- 입력을 받는다\n",
    "- 정수로 바꾼다\n",
    "- if 문으로 비교한다\n",
    "- 출력"
   ]
  },
  {
   "cell_type": "code",
   "execution_count": 4528,
   "metadata": {},
   "outputs": [
    {
     "name": "stdout",
     "output_type": "stream",
     "text": [
      "숫자 입력 >>> 5\n",
      "워크맨\n"
     ]
    }
   ],
   "source": [
    "a=int(input('숫자 입력 >>> '))\n",
    "if a%2==0:\n",
    "    print('펭수')\n",
    "else:\n",
    "    print('워크맨')"
   ]
  },
  {
   "cell_type": "code",
   "execution_count": 5336,
   "metadata": {},
   "outputs": [
    {
     "name": "stdout",
     "output_type": "stream",
     "text": [
      "21 23 25 27 29 \n",
      "합계 : 125\n"
     ]
    }
   ],
   "source": [
    "sum=0\n",
    "for i in range(20,31):\n",
    "    if i % 2 != 0:\n",
    "            sum = sum + i\n",
    "            print(i, end=' ')\n",
    "print('\\n합계 :', sum)"
   ]
  },
  {
   "cell_type": "markdown",
   "metadata": {},
   "source": [
    "### [문제 만들기]\n",
    "- for, if문이 들어가는 문제\n",
    "\n",
    "- ID,비밀번호"
   ]
  },
  {
   "cell_type": "code",
   "execution_count": 5338,
   "metadata": {},
   "outputs": [
    {
     "name": "stdout",
     "output_type": "stream",
     "text": [
      "아이디 입력 >>> id\n",
      "비밀번호 입력 >>> password\n",
      "환영함\n"
     ]
    }
   ],
   "source": [
    "id = 'id'\n",
    "password = 'password'\n",
    "iid=input('아이디 입력 >>> ')\n",
    "ipassword=input('비밀번호 입력 >>> ')\n",
    "if iid == id:\n",
    "    if ipassword == password:\n",
    "        print('환영함')\n",
    "    else:\n",
    "        print('비밀번호 틀림')\n",
    "else:\n",
    "    print('아이디 틀림')"
   ]
  }
 ],
 "metadata": {
  "kernelspec": {
   "display_name": "Python 3",
   "language": "python",
   "name": "python3"
  },
  "language_info": {
   "codemirror_mode": {
    "name": "ipython",
    "version": 3
   },
   "file_extension": ".py",
   "mimetype": "text/x-python",
   "name": "python",
   "nbconvert_exporter": "python",
   "pygments_lexer": "ipython3",
   "version": "3.7.4"
  }
 },
 "nbformat": 4,
 "nbformat_minor": 2
}
